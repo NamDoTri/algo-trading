{
 "metadata": {
  "language_info": {
   "codemirror_mode": {
    "name": "ipython",
    "version": 3
   },
   "file_extension": ".py",
   "mimetype": "text/x-python",
   "name": "python",
   "nbconvert_exporter": "python",
   "pygments_lexer": "ipython3",
   "version": "3.7.4-final"
  },
  "orig_nbformat": 2,
  "kernelspec": {
   "name": "python3",
   "display_name": "Python 3.7.4 64-bit ('env': venv)",
   "metadata": {
    "interpreter": {
     "hash": "18161627c3d7e5b3b251c3d30a8e5f077010cad31a39d101731417fb55cc5b4d"
    }
   }
  }
 },
 "nbformat": 4,
 "nbformat_minor": 2,
 "cells": [
  {
   "source": [
    "# Experiments with Machine Learning"
   ],
   "cell_type": "markdown",
   "metadata": {}
  },
  {
   "source": [
    "**APPROACH:** Predict the price using Machine Learning models, then decide to go long or short."
   ],
   "cell_type": "markdown",
   "metadata": {}
  },
  {
   "source": [
    "First, import necessary libraries"
   ],
   "cell_type": "markdown",
   "metadata": {}
  },
  {
   "cell_type": "code",
   "execution_count": 12,
   "metadata": {},
   "outputs": [],
   "source": [
    "import pandas as pd \n",
    "import yfinance as yf\n",
    "import numpy as np\n",
    "from tensorflow.keras import Sequential\n",
    "from tensorflow.keras.layers import LSTM, Dense\n",
    "from sklearn.ensemble import RandomForestClassifier\n",
    "from sklearn.model_selection import RandomizedSearchCV\n",
    "from sklearn.metrics import f1_score, accuracy_score\n",
    "from backtesting import Backtest\n",
    "\n",
    "from data_prepration import get_OHLC_df, label_OHLC_df, split_train_test\n",
    "from strategies.BinaryClassificationStrategy import BinaryClassificationStrategy"
   ]
  },
  {
   "source": [
    "## Prepare data\n",
    "3-year data from 2017-2019, and test with data of 2020 and the first half of 2021"
   ],
   "cell_type": "markdown",
   "metadata": {}
  },
  {
   "cell_type": "code",
   "execution_count": 2,
   "metadata": {},
   "outputs": [
    {
     "output_type": "execute_result",
     "data": {
      "text/plain": [
       "(1071, 7)"
      ]
     },
     "metadata": {},
     "execution_count": 2
    }
   ],
   "source": [
    "aapl = yf.Ticker('AAPL')\n",
    "orig_data = aapl.history(start='2016-12-30') # to calculate pct_change over 2 days for 01.01.2017\n",
    "orig_data.shape"
   ]
  },
  {
   "cell_type": "code",
   "execution_count": 3,
   "metadata": {},
   "outputs": [
    {
     "output_type": "execute_result",
     "data": {
      "text/plain": [
       "DatetimeIndex(['2016-12-29', '2016-12-30', '2017-01-03', '2017-01-04',\n",
       "               '2017-01-05', '2017-01-06', '2017-01-09', '2017-01-10',\n",
       "               '2017-01-11', '2017-01-12',\n",
       "               ...\n",
       "               '2021-03-19', '2021-03-22', '2021-03-23', '2021-03-24',\n",
       "               '2021-03-25', '2021-03-26', '2021-03-29', '2021-03-30',\n",
       "               '2021-03-31', '2021-04-01'],\n",
       "              dtype='datetime64[ns]', name='Date', length=1071, freq=None)"
      ]
     },
     "metadata": {},
     "execution_count": 3
    }
   ],
   "source": [
    "orig_data.index"
   ]
  },
  {
   "source": [
    "As can be seen from above, the data fetched from Yahoo Finance is a Dataframe, indexed and sorted by date, which is very convenient. The next step is to split the data into train and test set:"
   ],
   "cell_type": "markdown",
   "metadata": {}
  },
  {
   "cell_type": "code",
   "execution_count": 4,
   "metadata": {},
   "outputs": [
    {
     "output_type": "execute_result",
     "data": {
      "text/plain": [
       "                  Open        High         Low  Close     Volume\n",
       "Date                                                            \n",
       "2017-01-03   27.377192   27.502493   27.131317   -1.0  115127600\n",
       "2017-01-04   27.389012   27.545049   27.365371    1.0   84472400\n",
       "2017-01-05   27.405562   27.627796   27.379556    1.0   88774400\n",
       "2017-01-06   27.608877   27.935134   27.535588    1.0  127007600\n",
       "2017-01-09   27.885486   28.235385   27.883123    1.0  134247600\n",
       "...                ...         ...         ...    ...        ...\n",
       "2021-03-26  120.349998  121.480003  118.919998    1.0   93958900\n",
       "2021-03-29  121.650002  122.580002  120.730003    1.0   80819200\n",
       "2021-03-30  120.110001  120.400002  118.860001   -1.0   85671900\n",
       "2021-03-31  121.650002  123.519997  121.150002    1.0  118323800\n",
       "2021-04-01  123.660004  124.180000  122.489998    1.0   74957400\n",
       "\n",
       "[1069 rows x 5 columns]"
      ],
      "text/html": "<div>\n<style scoped>\n    .dataframe tbody tr th:only-of-type {\n        vertical-align: middle;\n    }\n\n    .dataframe tbody tr th {\n        vertical-align: top;\n    }\n\n    .dataframe thead th {\n        text-align: right;\n    }\n</style>\n<table border=\"1\" class=\"dataframe\">\n  <thead>\n    <tr style=\"text-align: right;\">\n      <th></th>\n      <th>Open</th>\n      <th>High</th>\n      <th>Low</th>\n      <th>Close</th>\n      <th>Volume</th>\n    </tr>\n    <tr>\n      <th>Date</th>\n      <th></th>\n      <th></th>\n      <th></th>\n      <th></th>\n      <th></th>\n    </tr>\n  </thead>\n  <tbody>\n    <tr>\n      <th>2017-01-03</th>\n      <td>27.377192</td>\n      <td>27.502493</td>\n      <td>27.131317</td>\n      <td>-1.0</td>\n      <td>115127600</td>\n    </tr>\n    <tr>\n      <th>2017-01-04</th>\n      <td>27.389012</td>\n      <td>27.545049</td>\n      <td>27.365371</td>\n      <td>1.0</td>\n      <td>84472400</td>\n    </tr>\n    <tr>\n      <th>2017-01-05</th>\n      <td>27.405562</td>\n      <td>27.627796</td>\n      <td>27.379556</td>\n      <td>1.0</td>\n      <td>88774400</td>\n    </tr>\n    <tr>\n      <th>2017-01-06</th>\n      <td>27.608877</td>\n      <td>27.935134</td>\n      <td>27.535588</td>\n      <td>1.0</td>\n      <td>127007600</td>\n    </tr>\n    <tr>\n      <th>2017-01-09</th>\n      <td>27.885486</td>\n      <td>28.235385</td>\n      <td>27.883123</td>\n      <td>1.0</td>\n      <td>134247600</td>\n    </tr>\n    <tr>\n      <th>...</th>\n      <td>...</td>\n      <td>...</td>\n      <td>...</td>\n      <td>...</td>\n      <td>...</td>\n    </tr>\n    <tr>\n      <th>2021-03-26</th>\n      <td>120.349998</td>\n      <td>121.480003</td>\n      <td>118.919998</td>\n      <td>1.0</td>\n      <td>93958900</td>\n    </tr>\n    <tr>\n      <th>2021-03-29</th>\n      <td>121.650002</td>\n      <td>122.580002</td>\n      <td>120.730003</td>\n      <td>1.0</td>\n      <td>80819200</td>\n    </tr>\n    <tr>\n      <th>2021-03-30</th>\n      <td>120.110001</td>\n      <td>120.400002</td>\n      <td>118.860001</td>\n      <td>-1.0</td>\n      <td>85671900</td>\n    </tr>\n    <tr>\n      <th>2021-03-31</th>\n      <td>121.650002</td>\n      <td>123.519997</td>\n      <td>121.150002</td>\n      <td>1.0</td>\n      <td>118323800</td>\n    </tr>\n    <tr>\n      <th>2021-04-01</th>\n      <td>123.660004</td>\n      <td>124.180000</td>\n      <td>122.489998</td>\n      <td>1.0</td>\n      <td>74957400</td>\n    </tr>\n  </tbody>\n</table>\n<p>1069 rows × 5 columns</p>\n</div>"
     },
     "metadata": {},
     "execution_count": 4
    }
   ],
   "source": [
    "data = get_OHLC_df(orig_data)\n",
    "data = label_OHLC_df(data, 2)\n",
    "data"
   ]
  },
  {
   "cell_type": "code",
   "execution_count": 5,
   "metadata": {},
   "outputs": [
    {
     "output_type": "execute_result",
     "data": {
      "text/plain": [
       "numpy.datetime64('2020-01-01')"
      ]
     },
     "metadata": {},
     "execution_count": 5
    }
   ],
   "source": [
    "split_date = np.datetime64('2020-01-01')\n",
    "split_date"
   ]
  },
  {
   "cell_type": "code",
   "execution_count": 6,
   "metadata": {},
   "outputs": [],
   "source": [
    "X_train, X_test, y_train, y_test = split_train_test(data, split_date)"
   ]
  },
  {
   "source": [
    "## Build models and test their performance"
   ],
   "cell_type": "markdown",
   "metadata": {}
  },
  {
   "source": [
    "First, I will create a Random Forest Classifier to predict if the price will go up or down. My strategy will then decide to go long or short accordingly. For experimenting, I dedcided to create a classifier with default values."
   ],
   "cell_type": "markdown",
   "metadata": {}
  },
  {
   "cell_type": "code",
   "execution_count": 7,
   "metadata": {},
   "outputs": [
    {
     "output_type": "execute_result",
     "data": {
      "text/plain": [
       "0.7095435684647302"
      ]
     },
     "metadata": {},
     "execution_count": 7
    }
   ],
   "source": [
    "rfc = RandomForestClassifier()\n",
    "rfc.fit(X_train, y_train)\n",
    "y_pred = rfc.predict(X_test)\n",
    "f1_score(y_test, y_pred)"
   ]
  },
  {
   "cell_type": "code",
   "execution_count": 8,
   "metadata": {},
   "outputs": [
    {
     "output_type": "execute_result",
     "data": {
      "text/plain": [
       "0.5555555555555556"
      ]
     },
     "metadata": {},
     "execution_count": 8
    }
   ],
   "source": [
    "accuracy_score(y_test, y_pred)"
   ]
  },
  {
   "cell_type": "code",
   "execution_count": 9,
   "metadata": {},
   "outputs": [],
   "source": [
    "class RandomForestStrategy(BinaryClassificationStrategy):\n",
    "    price_delta = .004\n",
    "\n",
    "    def init(self):\n",
    "        self.clf = rfc\n",
    "\n",
    "    def next(self):\n",
    "        row = self.data.df.iloc[-1:]\n",
    "        X = row[['Open', 'High', 'Low', 'Volume']]\n",
    "        pred = self.clf.predict(X)[0]\n",
    "\n",
    "        self.decide_trade(pred)\n",
    "\n",
    "        # if position has been hold for more than 2 days => set stop-loss to be more aggressive\n",
    "        current_time = self.data.index[-1]\n",
    "        high, low = self.data.High, self.data.Low\n",
    "        for trade in self.trades:\n",
    "            if current_time - trade.entry_time > pd.Timedelta('2 days'):\n",
    "                if trade.is_long:\n",
    "                    trade.sl = max(trade.sl, low)\n",
    "                else:\n",
    "                    trade.sl = min(trade.sl, high)"
   ]
  },
  {
   "cell_type": "code",
   "execution_count": 10,
   "metadata": {
    "tags": []
   },
   "outputs": [
    {
     "output_type": "error",
     "ename": "NameError",
     "evalue": "name 'upper' is not defined",
     "traceback": [
      "\u001b[1;31m---------------------------------------------------------------------------\u001b[0m",
      "\u001b[1;31mNameError\u001b[0m                                 Traceback (most recent call last)",
      "\u001b[1;32m<ipython-input-10-d068b96fd9b0>\u001b[0m in \u001b[0;36m<module>\u001b[1;34m\u001b[0m\n\u001b[0;32m      1\u001b[0m \u001b[0mtest_data\u001b[0m \u001b[1;33m=\u001b[0m \u001b[0morig_data\u001b[0m\u001b[1;33m[\u001b[0m\u001b[0morig_data\u001b[0m\u001b[1;33m.\u001b[0m\u001b[0mindex\u001b[0m \u001b[1;33m>\u001b[0m \u001b[0msplit_date\u001b[0m\u001b[1;33m]\u001b[0m\u001b[1;33m\u001b[0m\u001b[1;33m\u001b[0m\u001b[0m\n\u001b[0;32m      2\u001b[0m \u001b[0mbt\u001b[0m \u001b[1;33m=\u001b[0m \u001b[0mBacktest\u001b[0m\u001b[1;33m(\u001b[0m\u001b[0mtest_data\u001b[0m\u001b[1;33m,\u001b[0m \u001b[0mRandomForestStrategy\u001b[0m\u001b[1;33m,\u001b[0m \u001b[0mcommission\u001b[0m\u001b[1;33m=\u001b[0m\u001b[1;36m.0002\u001b[0m\u001b[1;33m,\u001b[0m \u001b[0mmargin\u001b[0m\u001b[1;33m=\u001b[0m\u001b[1;36m.05\u001b[0m\u001b[1;33m)\u001b[0m\u001b[1;33m\u001b[0m\u001b[1;33m\u001b[0m\u001b[0m\n\u001b[1;32m----> 3\u001b[1;33m \u001b[0mbt\u001b[0m\u001b[1;33m.\u001b[0m\u001b[0mrun\u001b[0m\u001b[1;33m(\u001b[0m\u001b[1;33m)\u001b[0m\u001b[1;33m\u001b[0m\u001b[1;33m\u001b[0m\u001b[0m\n\u001b[0m",
      "\u001b[1;32md:\\School\\Thesis\\algo-trading\\env\\lib\\site-packages\\backtesting\\backtesting.py\u001b[0m in \u001b[0;36mrun\u001b[1;34m(self, **kwargs)\u001b[0m\n\u001b[0;32m   1163\u001b[0m \u001b[1;33m\u001b[0m\u001b[0m\n\u001b[0;32m   1164\u001b[0m                 \u001b[1;31m# Next tick, a moment before bar close\u001b[0m\u001b[1;33m\u001b[0m\u001b[1;33m\u001b[0m\u001b[1;33m\u001b[0m\u001b[0m\n\u001b[1;32m-> 1165\u001b[1;33m                 \u001b[0mstrategy\u001b[0m\u001b[1;33m.\u001b[0m\u001b[0mnext\u001b[0m\u001b[1;33m(\u001b[0m\u001b[1;33m)\u001b[0m\u001b[1;33m\u001b[0m\u001b[1;33m\u001b[0m\u001b[0m\n\u001b[0m\u001b[0;32m   1166\u001b[0m             \u001b[1;32melse\u001b[0m\u001b[1;33m:\u001b[0m\u001b[1;33m\u001b[0m\u001b[1;33m\u001b[0m\u001b[0m\n\u001b[0;32m   1167\u001b[0m                 \u001b[1;31m# Close any remaining open trades so they produce some stats\u001b[0m\u001b[1;33m\u001b[0m\u001b[1;33m\u001b[0m\u001b[1;33m\u001b[0m\u001b[0m\n",
      "\u001b[1;32m<ipython-input-9-768c36f6c133>\u001b[0m in \u001b[0;36mnext\u001b[1;34m(self)\u001b[0m\n\u001b[0;32m     13\u001b[0m         \u001b[1;31m# do the opposite if the condition is reverse and is not going short\u001b[0m\u001b[1;33m\u001b[0m\u001b[1;33m\u001b[0m\u001b[1;33m\u001b[0m\u001b[0m\n\u001b[0;32m     14\u001b[0m         \u001b[1;32mif\u001b[0m \u001b[0mpred\u001b[0m \u001b[1;33m==\u001b[0m \u001b[1;36m1\u001b[0m \u001b[1;32mand\u001b[0m \u001b[1;32mnot\u001b[0m \u001b[0mself\u001b[0m\u001b[1;33m.\u001b[0m\u001b[0mposition\u001b[0m\u001b[1;33m.\u001b[0m\u001b[0mis_long\u001b[0m\u001b[1;33m:\u001b[0m\u001b[1;33m\u001b[0m\u001b[1;33m\u001b[0m\u001b[0m\n\u001b[1;32m---> 15\u001b[1;33m             \u001b[0mself\u001b[0m\u001b[1;33m.\u001b[0m\u001b[0mbuy\u001b[0m\u001b[1;33m(\u001b[0m\u001b[0msize\u001b[0m\u001b[1;33m=\u001b[0m\u001b[1;36m.2\u001b[0m\u001b[1;33m,\u001b[0m \u001b[0mtp\u001b[0m \u001b[1;33m=\u001b[0m \u001b[0mupper\u001b[0m\u001b[1;33m,\u001b[0m \u001b[0msl\u001b[0m \u001b[1;33m=\u001b[0m \u001b[0mlower\u001b[0m\u001b[1;33m)\u001b[0m\u001b[1;33m\u001b[0m\u001b[1;33m\u001b[0m\u001b[0m\n\u001b[0m\u001b[0;32m     16\u001b[0m         \u001b[1;32melif\u001b[0m \u001b[0mpred\u001b[0m \u001b[1;33m==\u001b[0m \u001b[1;33m-\u001b[0m\u001b[1;36m1\u001b[0m \u001b[1;32mand\u001b[0m \u001b[1;32mnot\u001b[0m \u001b[0mself\u001b[0m\u001b[1;33m.\u001b[0m\u001b[0mposition\u001b[0m\u001b[1;33m.\u001b[0m\u001b[0mis_short\u001b[0m\u001b[1;33m:\u001b[0m\u001b[1;33m\u001b[0m\u001b[1;33m\u001b[0m\u001b[0m\n\u001b[0;32m     17\u001b[0m             \u001b[0mself\u001b[0m\u001b[1;33m.\u001b[0m\u001b[0msell\u001b[0m\u001b[1;33m(\u001b[0m\u001b[0msize\u001b[0m\u001b[1;33m=\u001b[0m\u001b[1;36m.2\u001b[0m\u001b[1;33m,\u001b[0m \u001b[0mtp\u001b[0m \u001b[1;33m=\u001b[0m \u001b[0mlower\u001b[0m\u001b[1;33m,\u001b[0m \u001b[0msl\u001b[0m \u001b[1;33m=\u001b[0m \u001b[0mupper\u001b[0m\u001b[1;33m)\u001b[0m\u001b[1;33m\u001b[0m\u001b[1;33m\u001b[0m\u001b[0m\n",
      "\u001b[1;31mNameError\u001b[0m: name 'upper' is not defined"
     ]
    }
   ],
   "source": [
    "test_data = orig_data[orig_data.index > split_date]\n",
    "bt = Backtest(test_data, RandomForestStrategy, commission=.0002, margin=.05)\n",
    "bt.run()"
   ]
  },
  {
   "source": [
    "In the first attempt, this model lost us almost all of our money. This is understandable because this model uses only default values for hyperparameters, which results in only about 50% accuracy. This will need a lot of fine-tuning.\n",
    "Also, the current strategy is very sensitive to price changes because even the slightest change is classified with either up or down. Therefore, if we are going long and the price experiences a small hiccup but the upward trend remains, our bot would just sell all the shares because of that hiccup."
   ],
   "cell_type": "markdown",
   "metadata": {}
  }
 ]
}