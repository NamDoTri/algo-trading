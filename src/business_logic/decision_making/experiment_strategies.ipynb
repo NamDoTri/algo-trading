{
 "metadata": {
  "language_info": {
   "codemirror_mode": {
    "name": "ipython",
    "version": 3
   },
   "file_extension": ".py",
   "mimetype": "text/x-python",
   "name": "python",
   "nbconvert_exporter": "python",
   "pygments_lexer": "ipython3",
   "version": "3.7.4-final"
  },
  "orig_nbformat": 2,
  "kernelspec": {
   "name": "trading-bot",
   "display_name": "trading-bot",
   "language": "python"
  }
 },
 "nbformat": 4,
 "nbformat_minor": 2,
 "cells": [
  {
   "source": [
    "# Experimenting with Moving Average Crossover on Apple stock"
   ],
   "cell_type": "markdown",
   "metadata": {}
  },
  {
   "source": [
    "Import necessary packages"
   ],
   "cell_type": "markdown",
   "metadata": {}
  },
  {
   "cell_type": "code",
   "execution_count": 1,
   "metadata": {},
   "outputs": [
    {
     "output_type": "display_data",
     "data": {
      "text/html": "\n    <div class=\"bk-root\">\n        <a href=\"https://bokeh.org\" target=\"_blank\" class=\"bk-logo bk-logo-small bk-logo-notebook\"></a>\n        <span id=\"1002\">Loading BokehJS ...</span>\n    </div>"
     },
     "metadata": {}
    },
    {
     "output_type": "display_data",
     "data": {
      "application/javascript": "\n(function(root) {\n  function now() {\n    return new Date();\n  }\n\n  var force = true;\n\n  if (typeof root._bokeh_onload_callbacks === \"undefined\" || force === true) {\n    root._bokeh_onload_callbacks = [];\n    root._bokeh_is_loading = undefined;\n  }\n\n  var JS_MIME_TYPE = 'application/javascript';\n  var HTML_MIME_TYPE = 'text/html';\n  var EXEC_MIME_TYPE = 'application/vnd.bokehjs_exec.v0+json';\n  var CLASS_NAME = 'output_bokeh rendered_html';\n\n  /**\n   * Render data to the DOM node\n   */\n  function render(props, node) {\n    var script = document.createElement(\"script\");\n    node.appendChild(script);\n  }\n\n  /**\n   * Handle when an output is cleared or removed\n   */\n  function handleClearOutput(event, handle) {\n    var cell = handle.cell;\n\n    var id = cell.output_area._bokeh_element_id;\n    var server_id = cell.output_area._bokeh_server_id;\n    // Clean up Bokeh references\n    if (id != null && id in Bokeh.index) {\n      Bokeh.index[id].model.document.clear();\n      delete Bokeh.index[id];\n    }\n\n    if (server_id !== undefined) {\n      // Clean up Bokeh references\n      var cmd = \"from bokeh.io.state import curstate; print(curstate().uuid_to_server['\" + server_id + \"'].get_sessions()[0].document.roots[0]._id)\";\n      cell.notebook.kernel.execute(cmd, {\n        iopub: {\n          output: function(msg) {\n            var id = msg.content.text.trim();\n            if (id in Bokeh.index) {\n              Bokeh.index[id].model.document.clear();\n              delete Bokeh.index[id];\n            }\n          }\n        }\n      });\n      // Destroy server and session\n      var cmd = \"import bokeh.io.notebook as ion; ion.destroy_server('\" + server_id + \"')\";\n      cell.notebook.kernel.execute(cmd);\n    }\n  }\n\n  /**\n   * Handle when a new output is added\n   */\n  function handleAddOutput(event, handle) {\n    var output_area = handle.output_area;\n    var output = handle.output;\n\n    // limit handleAddOutput to display_data with EXEC_MIME_TYPE content only\n    if ((output.output_type != \"display_data\") || (!Object.prototype.hasOwnProperty.call(output.data, EXEC_MIME_TYPE))) {\n      return\n    }\n\n    var toinsert = output_area.element.find(\".\" + CLASS_NAME.split(' ')[0]);\n\n    if (output.metadata[EXEC_MIME_TYPE][\"id\"] !== undefined) {\n      toinsert[toinsert.length - 1].firstChild.textContent = output.data[JS_MIME_TYPE];\n      // store reference to embed id on output_area\n      output_area._bokeh_element_id = output.metadata[EXEC_MIME_TYPE][\"id\"];\n    }\n    if (output.metadata[EXEC_MIME_TYPE][\"server_id\"] !== undefined) {\n      var bk_div = document.createElement(\"div\");\n      bk_div.innerHTML = output.data[HTML_MIME_TYPE];\n      var script_attrs = bk_div.children[0].attributes;\n      for (var i = 0; i < script_attrs.length; i++) {\n        toinsert[toinsert.length - 1].firstChild.setAttribute(script_attrs[i].name, script_attrs[i].value);\n        toinsert[toinsert.length - 1].firstChild.textContent = bk_div.children[0].textContent\n      }\n      // store reference to server id on output_area\n      output_area._bokeh_server_id = output.metadata[EXEC_MIME_TYPE][\"server_id\"];\n    }\n  }\n\n  function register_renderer(events, OutputArea) {\n\n    function append_mime(data, metadata, element) {\n      // create a DOM node to render to\n      var toinsert = this.create_output_subarea(\n        metadata,\n        CLASS_NAME,\n        EXEC_MIME_TYPE\n      );\n      this.keyboard_manager.register_events(toinsert);\n      // Render to node\n      var props = {data: data, metadata: metadata[EXEC_MIME_TYPE]};\n      render(props, toinsert[toinsert.length - 1]);\n      element.append(toinsert);\n      return toinsert\n    }\n\n    /* Handle when an output is cleared or removed */\n    events.on('clear_output.CodeCell', handleClearOutput);\n    events.on('delete.Cell', handleClearOutput);\n\n    /* Handle when a new output is added */\n    events.on('output_added.OutputArea', handleAddOutput);\n\n    /**\n     * Register the mime type and append_mime function with output_area\n     */\n    OutputArea.prototype.register_mime_type(EXEC_MIME_TYPE, append_mime, {\n      /* Is output safe? */\n      safe: true,\n      /* Index of renderer in `output_area.display_order` */\n      index: 0\n    });\n  }\n\n  // register the mime type if in Jupyter Notebook environment and previously unregistered\n  if (root.Jupyter !== undefined) {\n    var events = require('base/js/events');\n    var OutputArea = require('notebook/js/outputarea').OutputArea;\n\n    if (OutputArea.prototype.mime_types().indexOf(EXEC_MIME_TYPE) == -1) {\n      register_renderer(events, OutputArea);\n    }\n  }\n\n  \n  if (typeof (root._bokeh_timeout) === \"undefined\" || force === true) {\n    root._bokeh_timeout = Date.now() + 5000;\n    root._bokeh_failed_load = false;\n  }\n\n  var NB_LOAD_WARNING = {'data': {'text/html':\n     \"<div style='background-color: #fdd'>\\n\"+\n     \"<p>\\n\"+\n     \"BokehJS does not appear to have successfully loaded. If loading BokehJS from CDN, this \\n\"+\n     \"may be due to a slow or bad network connection. Possible fixes:\\n\"+\n     \"</p>\\n\"+\n     \"<ul>\\n\"+\n     \"<li>re-rerun `output_notebook()` to attempt to load from CDN again, or</li>\\n\"+\n     \"<li>use INLINE resources instead, as so:</li>\\n\"+\n     \"</ul>\\n\"+\n     \"<code>\\n\"+\n     \"from bokeh.resources import INLINE\\n\"+\n     \"output_notebook(resources=INLINE)\\n\"+\n     \"</code>\\n\"+\n     \"</div>\"}};\n\n  function display_loaded() {\n    var el = document.getElementById(\"1002\");\n    if (el != null) {\n      el.textContent = \"BokehJS is loading...\";\n    }\n    if (root.Bokeh !== undefined) {\n      if (el != null) {\n        el.textContent = \"BokehJS \" + root.Bokeh.version + \" successfully loaded.\";\n      }\n    } else if (Date.now() < root._bokeh_timeout) {\n      setTimeout(display_loaded, 100)\n    }\n  }\n\n\n  function run_callbacks() {\n    try {\n      root._bokeh_onload_callbacks.forEach(function(callback) {\n        if (callback != null)\n          callback();\n      });\n    } finally {\n      delete root._bokeh_onload_callbacks\n    }\n    console.debug(\"Bokeh: all callbacks have finished\");\n  }\n\n  function load_libs(css_urls, js_urls, callback) {\n    if (css_urls == null) css_urls = [];\n    if (js_urls == null) js_urls = [];\n\n    root._bokeh_onload_callbacks.push(callback);\n    if (root._bokeh_is_loading > 0) {\n      console.debug(\"Bokeh: BokehJS is being loaded, scheduling callback at\", now());\n      return null;\n    }\n    if (js_urls == null || js_urls.length === 0) {\n      run_callbacks();\n      return null;\n    }\n    console.debug(\"Bokeh: BokehJS not loaded, scheduling load and callback at\", now());\n    root._bokeh_is_loading = css_urls.length + js_urls.length;\n\n    function on_load() {\n      root._bokeh_is_loading--;\n      if (root._bokeh_is_loading === 0) {\n        console.debug(\"Bokeh: all BokehJS libraries/stylesheets loaded\");\n        run_callbacks()\n      }\n    }\n\n    function on_error(url) {\n      console.error(\"failed to load \" + url);\n    }\n\n    for (let i = 0; i < css_urls.length; i++) {\n      const url = css_urls[i];\n      const element = document.createElement(\"link\");\n      element.onload = on_load;\n      element.onerror = on_error.bind(null, url);\n      element.rel = \"stylesheet\";\n      element.type = \"text/css\";\n      element.href = url;\n      console.debug(\"Bokeh: injecting link tag for BokehJS stylesheet: \", url);\n      document.body.appendChild(element);\n    }\n\n    const hashes = {\"https://cdn.bokeh.org/bokeh/release/bokeh-2.3.0.min.js\": \"HjagQp6T0/7bxYTAXbLotF1MLAGWmhkY5siA1Gc/pcEgvgRPtMsRn0gQtMwGKiw1\", \"https://cdn.bokeh.org/bokeh/release/bokeh-widgets-2.3.0.min.js\": \"ZEPPTjL+mdyqgIq+/pl9KTwzji8Kow2NnI3zWY8+sFinWP/SYJ80BnfeJsa45iYj\", \"https://cdn.bokeh.org/bokeh/release/bokeh-tables-2.3.0.min.js\": \"exLqv2ACDRIaV7ZK1iL8aGzGYQvKVuT3U2CT7FsQREBxRah6JrkVCoFy0koY1YqV\"};\n\n    for (let i = 0; i < js_urls.length; i++) {\n      const url = js_urls[i];\n      const element = document.createElement('script');\n      element.onload = on_load;\n      element.onerror = on_error.bind(null, url);\n      element.async = false;\n      element.src = url;\n      if (url in hashes) {\n        element.crossOrigin = \"anonymous\";\n        element.integrity = \"sha384-\" + hashes[url];\n      }\n      console.debug(\"Bokeh: injecting script tag for BokehJS library: \", url);\n      document.head.appendChild(element);\n    }\n  };\n\n  function inject_raw_css(css) {\n    const element = document.createElement(\"style\");\n    element.appendChild(document.createTextNode(css));\n    document.body.appendChild(element);\n  }\n\n  \n  var js_urls = [\"https://cdn.bokeh.org/bokeh/release/bokeh-2.3.0.min.js\", \"https://cdn.bokeh.org/bokeh/release/bokeh-widgets-2.3.0.min.js\", \"https://cdn.bokeh.org/bokeh/release/bokeh-tables-2.3.0.min.js\"];\n  var css_urls = [];\n  \n\n  var inline_js = [\n    function(Bokeh) {\n      Bokeh.set_log_level(\"info\");\n    },\n    function(Bokeh) {\n    \n    \n    }\n  ];\n\n  function run_inline_js() {\n    \n    if (root.Bokeh !== undefined || force === true) {\n      \n    for (var i = 0; i < inline_js.length; i++) {\n      inline_js[i].call(root, root.Bokeh);\n    }\n    if (force === true) {\n        display_loaded();\n      }} else if (Date.now() < root._bokeh_timeout) {\n      setTimeout(run_inline_js, 100);\n    } else if (!root._bokeh_failed_load) {\n      console.log(\"Bokeh: BokehJS failed to load within specified timeout.\");\n      root._bokeh_failed_load = true;\n    } else if (force !== true) {\n      var cell = $(document.getElementById(\"1002\")).parents('.cell').data().cell;\n      cell.output_area.append_execute_result(NB_LOAD_WARNING)\n    }\n\n  }\n\n  if (root._bokeh_is_loading === 0) {\n    console.debug(\"Bokeh: BokehJS loaded, going straight to plotting\");\n    run_inline_js();\n  } else {\n    load_libs(css_urls, js_urls, function() {\n      console.debug(\"Bokeh: BokehJS plotting callback run at\", now());\n      run_inline_js();\n    });\n  }\n}(window));",
      "application/vnd.bokehjs_load.v0+json": "\n(function(root) {\n  function now() {\n    return new Date();\n  }\n\n  var force = true;\n\n  if (typeof root._bokeh_onload_callbacks === \"undefined\" || force === true) {\n    root._bokeh_onload_callbacks = [];\n    root._bokeh_is_loading = undefined;\n  }\n\n  \n\n  \n  if (typeof (root._bokeh_timeout) === \"undefined\" || force === true) {\n    root._bokeh_timeout = Date.now() + 5000;\n    root._bokeh_failed_load = false;\n  }\n\n  var NB_LOAD_WARNING = {'data': {'text/html':\n     \"<div style='background-color: #fdd'>\\n\"+\n     \"<p>\\n\"+\n     \"BokehJS does not appear to have successfully loaded. If loading BokehJS from CDN, this \\n\"+\n     \"may be due to a slow or bad network connection. Possible fixes:\\n\"+\n     \"</p>\\n\"+\n     \"<ul>\\n\"+\n     \"<li>re-rerun `output_notebook()` to attempt to load from CDN again, or</li>\\n\"+\n     \"<li>use INLINE resources instead, as so:</li>\\n\"+\n     \"</ul>\\n\"+\n     \"<code>\\n\"+\n     \"from bokeh.resources import INLINE\\n\"+\n     \"output_notebook(resources=INLINE)\\n\"+\n     \"</code>\\n\"+\n     \"</div>\"}};\n\n  function display_loaded() {\n    var el = document.getElementById(\"1002\");\n    if (el != null) {\n      el.textContent = \"BokehJS is loading...\";\n    }\n    if (root.Bokeh !== undefined) {\n      if (el != null) {\n        el.textContent = \"BokehJS \" + root.Bokeh.version + \" successfully loaded.\";\n      }\n    } else if (Date.now() < root._bokeh_timeout) {\n      setTimeout(display_loaded, 100)\n    }\n  }\n\n\n  function run_callbacks() {\n    try {\n      root._bokeh_onload_callbacks.forEach(function(callback) {\n        if (callback != null)\n          callback();\n      });\n    } finally {\n      delete root._bokeh_onload_callbacks\n    }\n    console.debug(\"Bokeh: all callbacks have finished\");\n  }\n\n  function load_libs(css_urls, js_urls, callback) {\n    if (css_urls == null) css_urls = [];\n    if (js_urls == null) js_urls = [];\n\n    root._bokeh_onload_callbacks.push(callback);\n    if (root._bokeh_is_loading > 0) {\n      console.debug(\"Bokeh: BokehJS is being loaded, scheduling callback at\", now());\n      return null;\n    }\n    if (js_urls == null || js_urls.length === 0) {\n      run_callbacks();\n      return null;\n    }\n    console.debug(\"Bokeh: BokehJS not loaded, scheduling load and callback at\", now());\n    root._bokeh_is_loading = css_urls.length + js_urls.length;\n\n    function on_load() {\n      root._bokeh_is_loading--;\n      if (root._bokeh_is_loading === 0) {\n        console.debug(\"Bokeh: all BokehJS libraries/stylesheets loaded\");\n        run_callbacks()\n      }\n    }\n\n    function on_error(url) {\n      console.error(\"failed to load \" + url);\n    }\n\n    for (let i = 0; i < css_urls.length; i++) {\n      const url = css_urls[i];\n      const element = document.createElement(\"link\");\n      element.onload = on_load;\n      element.onerror = on_error.bind(null, url);\n      element.rel = \"stylesheet\";\n      element.type = \"text/css\";\n      element.href = url;\n      console.debug(\"Bokeh: injecting link tag for BokehJS stylesheet: \", url);\n      document.body.appendChild(element);\n    }\n\n    const hashes = {\"https://cdn.bokeh.org/bokeh/release/bokeh-2.3.0.min.js\": \"HjagQp6T0/7bxYTAXbLotF1MLAGWmhkY5siA1Gc/pcEgvgRPtMsRn0gQtMwGKiw1\", \"https://cdn.bokeh.org/bokeh/release/bokeh-widgets-2.3.0.min.js\": \"ZEPPTjL+mdyqgIq+/pl9KTwzji8Kow2NnI3zWY8+sFinWP/SYJ80BnfeJsa45iYj\", \"https://cdn.bokeh.org/bokeh/release/bokeh-tables-2.3.0.min.js\": \"exLqv2ACDRIaV7ZK1iL8aGzGYQvKVuT3U2CT7FsQREBxRah6JrkVCoFy0koY1YqV\"};\n\n    for (let i = 0; i < js_urls.length; i++) {\n      const url = js_urls[i];\n      const element = document.createElement('script');\n      element.onload = on_load;\n      element.onerror = on_error.bind(null, url);\n      element.async = false;\n      element.src = url;\n      if (url in hashes) {\n        element.crossOrigin = \"anonymous\";\n        element.integrity = \"sha384-\" + hashes[url];\n      }\n      console.debug(\"Bokeh: injecting script tag for BokehJS library: \", url);\n      document.head.appendChild(element);\n    }\n  };\n\n  function inject_raw_css(css) {\n    const element = document.createElement(\"style\");\n    element.appendChild(document.createTextNode(css));\n    document.body.appendChild(element);\n  }\n\n  \n  var js_urls = [\"https://cdn.bokeh.org/bokeh/release/bokeh-2.3.0.min.js\", \"https://cdn.bokeh.org/bokeh/release/bokeh-widgets-2.3.0.min.js\", \"https://cdn.bokeh.org/bokeh/release/bokeh-tables-2.3.0.min.js\"];\n  var css_urls = [];\n  \n\n  var inline_js = [\n    function(Bokeh) {\n      Bokeh.set_log_level(\"info\");\n    },\n    function(Bokeh) {\n    \n    \n    }\n  ];\n\n  function run_inline_js() {\n    \n    if (root.Bokeh !== undefined || force === true) {\n      \n    for (var i = 0; i < inline_js.length; i++) {\n      inline_js[i].call(root, root.Bokeh);\n    }\n    if (force === true) {\n        display_loaded();\n      }} else if (Date.now() < root._bokeh_timeout) {\n      setTimeout(run_inline_js, 100);\n    } else if (!root._bokeh_failed_load) {\n      console.log(\"Bokeh: BokehJS failed to load within specified timeout.\");\n      root._bokeh_failed_load = true;\n    } else if (force !== true) {\n      var cell = $(document.getElementById(\"1002\")).parents('.cell').data().cell;\n      cell.output_area.append_execute_result(NB_LOAD_WARNING)\n    }\n\n  }\n\n  if (root._bokeh_is_loading === 0) {\n    console.debug(\"Bokeh: BokehJS loaded, going straight to plotting\");\n    run_inline_js();\n  } else {\n    load_libs(css_urls, js_urls, function() {\n      console.debug(\"Bokeh: BokehJS plotting callback run at\", now());\n      run_inline_js();\n    });\n  }\n}(window));"
     },
     "metadata": {}
    }
   ],
   "source": [
    "import pandas as pd \n",
    "import yfinance as yf\n",
    "from backtesting import Strategy, Backtest\n",
    "from backtesting.lib import crossover\n",
    "from backtesting.test import SMA"
   ]
  },
  {
   "source": [
    "## Prepare market data"
   ],
   "cell_type": "markdown",
   "metadata": {}
  },
  {
   "source": [
    "For experimenting, I used data of Apple's stock over a period of 3 years, which is fetched from Yahoo Finance"
   ],
   "cell_type": "markdown",
   "metadata": {}
  },
  {
   "cell_type": "code",
   "execution_count": 2,
   "metadata": {},
   "outputs": [
    {
     "output_type": "execute_result",
     "data": {
      "text/plain": [
       "(755, 7)"
      ]
     },
     "metadata": {},
     "execution_count": 2
    }
   ],
   "source": [
    "time_span = \"3y\"\n",
    "aapl = yf.Ticker('AAPL')\n",
    "data = aapl.history(period=time_span)\n",
    "data.shape"
   ]
  },
  {
   "source": [
    "Seems like we have our market data in check. The next step is to define our trading strategy, making use of a predefined function called SMA which computes the moving average for us. In order to leave out unnecessary extra coding, I will define a class for this which inherits from an existing class named Strategy in the Backtesting.py package:"
   ],
   "cell_type": "markdown",
   "metadata": {}
  },
  {
   "cell_type": "code",
   "execution_count": 3,
   "metadata": {},
   "outputs": [],
   "source": [
    "class SmaCross(Strategy):\n",
    "    n1 = 10\n",
    "    n2 = 20\n",
    "\n",
    "    def init(self):\n",
    "        self.sma1 = self.I(SMA, self.data.Close, self.n1)\n",
    "        self.sma2 = self.I(SMA, self.data.Close, self.n2)\n",
    "\n",
    "    def next(self):\n",
    "        if crossover(self.sma1, self.sma2):\n",
    "            self.position.close()\n",
    "            self.buy()\n",
    "        elif crossover(self.sma2, self.sma1):\n",
    "            self.position.close()\n",
    "            self.sell()"
   ]
  },
  {
   "cell_type": "code",
   "execution_count": 4,
   "metadata": {},
   "outputs": [
    {
     "output_type": "execute_result",
     "data": {
      "text/plain": [
       "Start                     2018-04-02 00:00:00\n",
       "End                       2021-03-30 00:00:00\n",
       "Duration                   1093 days 00:00:00\n",
       "Exposure Time [%]                   96.423841\n",
       "Equity Final [$]                 13847.028388\n",
       "Equity Peak [$]                  17039.512152\n",
       "Return [%]                          246.17571\n",
       "Buy & Hold Return [%]              198.235923\n",
       "Return (Ann.) [%]                    51.35739\n",
       "Volatility (Ann.) [%]               50.010715\n",
       "Sharpe Ratio                         1.026928\n",
       "Sortino Ratio                        2.455041\n",
       "Calmar Ratio                         2.085638\n",
       "Max. Drawdown [%]                  -24.624303\n",
       "Avg. Drawdown [%]                   -3.818092\n",
       "Max. Drawdown Duration      210 days 00:00:00\n",
       "Avg. Drawdown Duration       20 days 00:00:00\n",
       "# Trades                                   23\n",
       "Win Rate [%]                        52.173913\n",
       "Best Trade [%]                       80.59984\n",
       "Worst Trade [%]                    -10.005939\n",
       "Avg. Trade [%]                       5.582115\n",
       "Max. Trade Duration         188 days 00:00:00\n",
       "Avg. Trade Duration          46 days 00:00:00\n",
       "Profit Factor                        4.031158\n",
       "Expectancy [%]                       6.987999\n",
       "SQN                                  1.297649\n",
       "_strategy                            SmaCross\n",
       "_equity_curve                             ...\n",
       "_trades                       Size  EntryB...\n",
       "dtype: object"
      ]
     },
     "metadata": {},
     "execution_count": 4
    }
   ],
   "source": [
    "bt = Backtest(data, SmaCross, cash=4000, commission=.002)\n",
    "stats = bt.run()\n",
    "stats"
   ]
  },
  {
   "source": [
    "### Observation:  \n",
    "- Invested 4k and get approx. 14k in return, which accounts for about 250%. This is of course extremely profitable, but not very surprising as Apple has been renowned to be one of the most valuable company in the world. \n",
    "- However, looking closely into the trade history below, one interesting thing is that the price of Apple stock almost doubled its price over the summer of 2020, leading to such a successful order and the main reason why the result was so positive."
   ],
   "cell_type": "markdown",
   "metadata": {}
  },
  {
   "cell_type": "code",
   "execution_count": 5,
   "metadata": {},
   "outputs": [
    {
     "output_type": "execute_result",
     "data": {
      "text/plain": [
       "    Size  EntryBar  ExitBar  EntryPrice   ExitPrice          PnL  ReturnPct  \\\n",
       "0     88        27       58   45.085687   45.065083    -1.813209  -0.000457   \n",
       "1    -88        58       72   44.974953   46.266052  -113.616706  -0.028707   \n",
       "2     83        72      120   46.358584   53.513555   593.862647   0.154340   \n",
       "3    -83       120      129   53.406528   55.897168  -206.723098  -0.046635   \n",
       "4     76       129      140   56.008962   52.935265  -233.600980  -0.054879   \n",
       "5    -76       140      204   52.829395   37.585803  1158.512957   0.288544   \n",
       "6    137       204      281   37.660975   45.822351  1118.108609   0.216706   \n",
       "7   -138       281      302   45.730707   47.860155  -293.863926  -0.046565   \n",
       "8    125       302      341   47.955876   49.212142   157.033221   0.026196   \n",
       "9   -125       341      351   49.113717   52.604389  -436.333921  -0.071073   \n",
       "10   108       351      479   52.709597   71.081509  1984.166444   0.348550   \n",
       "11  -108       479      509   70.939346   65.179751   622.036241   0.081190   \n",
       "12   127       509      619   65.310111  117.949955  6685.260232   0.805998   \n",
       "13  -127       619      634  117.714055  115.328390   302.979473   0.020267   \n",
       "14   132       634      651  115.559047  112.009093  -468.593839  -0.030720   \n",
       "15  -132       651      663  111.785075  118.742560  -918.388066  -0.062240   \n",
       "16   117       663      675  118.980046  123.335698   509.611299   0.036608   \n",
       "17  -117       675      677  123.089026  122.127500   112.498631   0.007812   \n",
       "18   119       677      703  122.371755  130.604846   979.737891   0.067279   \n",
       "19  -119       703      710  130.343636  143.385742 -1552.010542  -0.100059   \n",
       "20    97       710      723  143.672513  134.350006  -904.283196  -0.064887   \n",
       "21   -97       723      750  134.081306  122.820000  1092.346720   0.083989   \n",
       "22   115       750      754  123.065640  120.110001  -339.898495  -0.024017   \n",
       "\n",
       "    EntryTime   ExitTime Duration  \n",
       "0  2018-05-09 2018-06-22  44 days  \n",
       "1  2018-06-22 2018-07-13  21 days  \n",
       "2  2018-07-13 2018-09-20  69 days  \n",
       "3  2018-09-20 2018-10-03  13 days  \n",
       "4  2018-10-03 2018-10-18  15 days  \n",
       "5  2018-10-18 2019-01-23  97 days  \n",
       "6  2019-01-23 2019-05-14 111 days  \n",
       "7  2019-05-14 2019-06-13  30 days  \n",
       "8  2019-06-13 2019-08-08  56 days  \n",
       "9  2019-08-08 2019-08-22  14 days  \n",
       "10 2019-08-22 2020-02-26 188 days  \n",
       "11 2020-02-26 2020-04-08  42 days  \n",
       "12 2020-04-08 2020-09-15 160 days  \n",
       "13 2020-09-15 2020-10-06  21 days  \n",
       "14 2020-10-06 2020-10-29  23 days  \n",
       "15 2020-10-29 2020-11-16  18 days  \n",
       "16 2020-11-16 2020-12-03  17 days  \n",
       "17 2020-12-03 2020-12-07   4 days  \n",
       "18 2020-12-07 2021-01-14  38 days  \n",
       "19 2021-01-14 2021-01-26  12 days  \n",
       "20 2021-01-26 2021-02-12  17 days  \n",
       "21 2021-02-12 2021-03-24  40 days  \n",
       "22 2021-03-24 2021-03-30   6 days  "
      ],
      "text/html": "<div>\n<style scoped>\n    .dataframe tbody tr th:only-of-type {\n        vertical-align: middle;\n    }\n\n    .dataframe tbody tr th {\n        vertical-align: top;\n    }\n\n    .dataframe thead th {\n        text-align: right;\n    }\n</style>\n<table border=\"1\" class=\"dataframe\">\n  <thead>\n    <tr style=\"text-align: right;\">\n      <th></th>\n      <th>Size</th>\n      <th>EntryBar</th>\n      <th>ExitBar</th>\n      <th>EntryPrice</th>\n      <th>ExitPrice</th>\n      <th>PnL</th>\n      <th>ReturnPct</th>\n      <th>EntryTime</th>\n      <th>ExitTime</th>\n      <th>Duration</th>\n    </tr>\n  </thead>\n  <tbody>\n    <tr>\n      <th>0</th>\n      <td>88</td>\n      <td>27</td>\n      <td>58</td>\n      <td>45.085687</td>\n      <td>45.065083</td>\n      <td>-1.813209</td>\n      <td>-0.000457</td>\n      <td>2018-05-09</td>\n      <td>2018-06-22</td>\n      <td>44 days</td>\n    </tr>\n    <tr>\n      <th>1</th>\n      <td>-88</td>\n      <td>58</td>\n      <td>72</td>\n      <td>44.974953</td>\n      <td>46.266052</td>\n      <td>-113.616706</td>\n      <td>-0.028707</td>\n      <td>2018-06-22</td>\n      <td>2018-07-13</td>\n      <td>21 days</td>\n    </tr>\n    <tr>\n      <th>2</th>\n      <td>83</td>\n      <td>72</td>\n      <td>120</td>\n      <td>46.358584</td>\n      <td>53.513555</td>\n      <td>593.862647</td>\n      <td>0.154340</td>\n      <td>2018-07-13</td>\n      <td>2018-09-20</td>\n      <td>69 days</td>\n    </tr>\n    <tr>\n      <th>3</th>\n      <td>-83</td>\n      <td>120</td>\n      <td>129</td>\n      <td>53.406528</td>\n      <td>55.897168</td>\n      <td>-206.723098</td>\n      <td>-0.046635</td>\n      <td>2018-09-20</td>\n      <td>2018-10-03</td>\n      <td>13 days</td>\n    </tr>\n    <tr>\n      <th>4</th>\n      <td>76</td>\n      <td>129</td>\n      <td>140</td>\n      <td>56.008962</td>\n      <td>52.935265</td>\n      <td>-233.600980</td>\n      <td>-0.054879</td>\n      <td>2018-10-03</td>\n      <td>2018-10-18</td>\n      <td>15 days</td>\n    </tr>\n    <tr>\n      <th>5</th>\n      <td>-76</td>\n      <td>140</td>\n      <td>204</td>\n      <td>52.829395</td>\n      <td>37.585803</td>\n      <td>1158.512957</td>\n      <td>0.288544</td>\n      <td>2018-10-18</td>\n      <td>2019-01-23</td>\n      <td>97 days</td>\n    </tr>\n    <tr>\n      <th>6</th>\n      <td>137</td>\n      <td>204</td>\n      <td>281</td>\n      <td>37.660975</td>\n      <td>45.822351</td>\n      <td>1118.108609</td>\n      <td>0.216706</td>\n      <td>2019-01-23</td>\n      <td>2019-05-14</td>\n      <td>111 days</td>\n    </tr>\n    <tr>\n      <th>7</th>\n      <td>-138</td>\n      <td>281</td>\n      <td>302</td>\n      <td>45.730707</td>\n      <td>47.860155</td>\n      <td>-293.863926</td>\n      <td>-0.046565</td>\n      <td>2019-05-14</td>\n      <td>2019-06-13</td>\n      <td>30 days</td>\n    </tr>\n    <tr>\n      <th>8</th>\n      <td>125</td>\n      <td>302</td>\n      <td>341</td>\n      <td>47.955876</td>\n      <td>49.212142</td>\n      <td>157.033221</td>\n      <td>0.026196</td>\n      <td>2019-06-13</td>\n      <td>2019-08-08</td>\n      <td>56 days</td>\n    </tr>\n    <tr>\n      <th>9</th>\n      <td>-125</td>\n      <td>341</td>\n      <td>351</td>\n      <td>49.113717</td>\n      <td>52.604389</td>\n      <td>-436.333921</td>\n      <td>-0.071073</td>\n      <td>2019-08-08</td>\n      <td>2019-08-22</td>\n      <td>14 days</td>\n    </tr>\n    <tr>\n      <th>10</th>\n      <td>108</td>\n      <td>351</td>\n      <td>479</td>\n      <td>52.709597</td>\n      <td>71.081509</td>\n      <td>1984.166444</td>\n      <td>0.348550</td>\n      <td>2019-08-22</td>\n      <td>2020-02-26</td>\n      <td>188 days</td>\n    </tr>\n    <tr>\n      <th>11</th>\n      <td>-108</td>\n      <td>479</td>\n      <td>509</td>\n      <td>70.939346</td>\n      <td>65.179751</td>\n      <td>622.036241</td>\n      <td>0.081190</td>\n      <td>2020-02-26</td>\n      <td>2020-04-08</td>\n      <td>42 days</td>\n    </tr>\n    <tr>\n      <th>12</th>\n      <td>127</td>\n      <td>509</td>\n      <td>619</td>\n      <td>65.310111</td>\n      <td>117.949955</td>\n      <td>6685.260232</td>\n      <td>0.805998</td>\n      <td>2020-04-08</td>\n      <td>2020-09-15</td>\n      <td>160 days</td>\n    </tr>\n    <tr>\n      <th>13</th>\n      <td>-127</td>\n      <td>619</td>\n      <td>634</td>\n      <td>117.714055</td>\n      <td>115.328390</td>\n      <td>302.979473</td>\n      <td>0.020267</td>\n      <td>2020-09-15</td>\n      <td>2020-10-06</td>\n      <td>21 days</td>\n    </tr>\n    <tr>\n      <th>14</th>\n      <td>132</td>\n      <td>634</td>\n      <td>651</td>\n      <td>115.559047</td>\n      <td>112.009093</td>\n      <td>-468.593839</td>\n      <td>-0.030720</td>\n      <td>2020-10-06</td>\n      <td>2020-10-29</td>\n      <td>23 days</td>\n    </tr>\n    <tr>\n      <th>15</th>\n      <td>-132</td>\n      <td>651</td>\n      <td>663</td>\n      <td>111.785075</td>\n      <td>118.742560</td>\n      <td>-918.388066</td>\n      <td>-0.062240</td>\n      <td>2020-10-29</td>\n      <td>2020-11-16</td>\n      <td>18 days</td>\n    </tr>\n    <tr>\n      <th>16</th>\n      <td>117</td>\n      <td>663</td>\n      <td>675</td>\n      <td>118.980046</td>\n      <td>123.335698</td>\n      <td>509.611299</td>\n      <td>0.036608</td>\n      <td>2020-11-16</td>\n      <td>2020-12-03</td>\n      <td>17 days</td>\n    </tr>\n    <tr>\n      <th>17</th>\n      <td>-117</td>\n      <td>675</td>\n      <td>677</td>\n      <td>123.089026</td>\n      <td>122.127500</td>\n      <td>112.498631</td>\n      <td>0.007812</td>\n      <td>2020-12-03</td>\n      <td>2020-12-07</td>\n      <td>4 days</td>\n    </tr>\n    <tr>\n      <th>18</th>\n      <td>119</td>\n      <td>677</td>\n      <td>703</td>\n      <td>122.371755</td>\n      <td>130.604846</td>\n      <td>979.737891</td>\n      <td>0.067279</td>\n      <td>2020-12-07</td>\n      <td>2021-01-14</td>\n      <td>38 days</td>\n    </tr>\n    <tr>\n      <th>19</th>\n      <td>-119</td>\n      <td>703</td>\n      <td>710</td>\n      <td>130.343636</td>\n      <td>143.385742</td>\n      <td>-1552.010542</td>\n      <td>-0.100059</td>\n      <td>2021-01-14</td>\n      <td>2021-01-26</td>\n      <td>12 days</td>\n    </tr>\n    <tr>\n      <th>20</th>\n      <td>97</td>\n      <td>710</td>\n      <td>723</td>\n      <td>143.672513</td>\n      <td>134.350006</td>\n      <td>-904.283196</td>\n      <td>-0.064887</td>\n      <td>2021-01-26</td>\n      <td>2021-02-12</td>\n      <td>17 days</td>\n    </tr>\n    <tr>\n      <th>21</th>\n      <td>-97</td>\n      <td>723</td>\n      <td>750</td>\n      <td>134.081306</td>\n      <td>122.820000</td>\n      <td>1092.346720</td>\n      <td>0.083989</td>\n      <td>2021-02-12</td>\n      <td>2021-03-24</td>\n      <td>40 days</td>\n    </tr>\n    <tr>\n      <th>22</th>\n      <td>115</td>\n      <td>750</td>\n      <td>754</td>\n      <td>123.065640</td>\n      <td>120.110001</td>\n      <td>-339.898495</td>\n      <td>-0.024017</td>\n      <td>2021-03-24</td>\n      <td>2021-03-30</td>\n      <td>6 days</td>\n    </tr>\n  </tbody>\n</table>\n</div>"
     },
     "metadata": {},
     "execution_count": 5
    }
   ],
   "source": [
    "stats['_trades']"
   ]
  }
 ]
}